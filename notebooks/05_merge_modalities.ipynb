{
 "cells": [
  {
   "cell_type": "markdown",
   "id": "d28b6db2",
   "metadata": {},
   "source": [
    "# 05 — Merge Modalities\n",
    "\n",
    "Week 2 / Day 11 — Create a unified table for each case combining bug report, OCR, and UI logs."
   ]
  },
  {
   "cell_type": "code",
   "execution_count": null,
   "id": "6c73570e",
   "metadata": {},
   "outputs": [],
   "source": [
    "!python ../scripts/merge_modalities.py --config ../configs/config.json"
   ]
  }
 ],
 "metadata": {},
 "nbformat": 4,
 "nbformat_minor": 5
}
