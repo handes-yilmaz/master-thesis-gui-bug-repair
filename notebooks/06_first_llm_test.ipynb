{
 "cells": [
  {
   "cell_type": "markdown",
   "id": "dcbb9647",
   "metadata": {},
   "source": [
    "# 06 — First LLM Prompt Test\n",
    "\n",
    "Week 2 / Days 12–14 — Send one consolidated case to an LLM (stubbed)."
   ]
  },
  {
   "cell_type": "code",
   "execution_count": null,
   "id": "a0bfb7b6",
   "metadata": {},
   "outputs": [],
   "source": [
    "!python ../scripts/llm_prompt_test.py --bug_report \"Mobile login button not clickable\" --ocr_text \"Login button visible\" --ui_events \"tap(login) -> no navigation\" --code_snippet \"<button id='login' onClick={submit}>Login</button>\" "
   ]
  }
 ],
 "metadata": {},
 "nbformat": 4,
 "nbformat_minor": 5
}
