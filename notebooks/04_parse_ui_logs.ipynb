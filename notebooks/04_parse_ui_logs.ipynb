{
 "cells": [
  {
   "cell_type": "markdown",
   "id": "e94edab9",
   "metadata": {},
   "source": [
    "# 04 — Parse UI Logs\n",
    "\n",
    "Week 2 / Day 10 — Build a readable sequence of events."
   ]
  },
  {
   "cell_type": "code",
   "execution_count": null,
   "id": "fb774e70",
   "metadata": {},
   "outputs": [],
   "source": [
    "!python ../scripts/parse_ui_logs.py --config ../configs/config.json --limit 5"
   ]
  }
 ],
 "metadata": {},
 "nbformat": 4,
 "nbformat_minor": 5
}
