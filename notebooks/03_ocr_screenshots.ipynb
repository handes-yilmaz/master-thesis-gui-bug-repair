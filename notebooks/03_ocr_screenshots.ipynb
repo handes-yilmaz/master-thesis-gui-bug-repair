{
 "cells": [
  {
   "cell_type": "markdown",
   "id": "f2a9f973",
   "metadata": {},
   "source": [
    "# 03 — OCR Screenshots\n",
    "\n",
    "Week 2 / Day 9 — Extract visible text from screenshots (if Tesseract is available)."
   ]
  },
  {
   "cell_type": "code",
   "execution_count": null,
   "id": "37ec37a0",
   "metadata": {},
   "outputs": [],
   "source": [
    "!python ../scripts/ocr_screenshots.py --config ../configs/config.json --limit 10"
   ]
  }
 ],
 "metadata": {},
 "nbformat": 4,
 "nbformat_minor": 5
}
