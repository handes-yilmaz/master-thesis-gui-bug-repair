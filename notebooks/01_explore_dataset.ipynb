{
 "cells": [
  {
   "cell_type": "markdown",
   "id": "a53f3688",
   "metadata": {},
   "source": [
    "# 01 — Explore SWE-bench MM\n",
    "\n",
    "Use this notebook on **Week 1 / Days 4–5** to explore the dataset and draft your taxonomy."
   ]
  },
  {
   "cell_type": "code",
   "execution_count": 1,
   "id": "cf9425c4",
   "metadata": {},
   "outputs": [
    {
     "name": "stdout",
     "output_type": "stream",
     "text": [
      "Requirement already satisfied: pandas in /opt/miniconda3/envs/gui-bug-repair/lib/python3.11/site-packages (from -r ../requirements.txt (line 1)) (2.3.1)\n",
      "Requirement already satisfied: numpy in /opt/miniconda3/envs/gui-bug-repair/lib/python3.11/site-packages (from -r ../requirements.txt (line 2)) (2.2.6)\n",
      "Requirement already satisfied: pillow in /opt/miniconda3/envs/gui-bug-repair/lib/python3.11/site-packages (from -r ../requirements.txt (line 3)) (11.3.0)\n",
      "Requirement already satisfied: opencv-python in /opt/miniconda3/envs/gui-bug-repair/lib/python3.11/site-packages (from -r ../requirements.txt (line 4)) (4.12.0.88)\n",
      "Requirement already satisfied: matplotlib in /opt/miniconda3/envs/gui-bug-repair/lib/python3.11/site-packages (from -r ../requirements.txt (line 5)) (3.10.5)\n",
      "Requirement already satisfied: jupyter in /opt/miniconda3/envs/gui-bug-repair/lib/python3.11/site-packages (from -r ../requirements.txt (line 6)) (1.1.1)\n",
      "Requirement already satisfied: ipykernel in /opt/miniconda3/envs/gui-bug-repair/lib/python3.11/site-packages (from -r ../requirements.txt (line 7)) (6.30.1)\n",
      "Requirement already satisfied: pytesseract in /opt/miniconda3/envs/gui-bug-repair/lib/python3.11/site-packages (from -r ../requirements.txt (line 8)) (0.3.13)\n",
      "Requirement already satisfied: python-dotenv in /opt/miniconda3/envs/gui-bug-repair/lib/python3.11/site-packages (from -r ../requirements.txt (line 9)) (1.1.1)\n",
      "Requirement already satisfied: tqdm in /opt/miniconda3/envs/gui-bug-repair/lib/python3.11/site-packages (from -r ../requirements.txt (line 10)) (4.67.1)\n",
      "Requirement already satisfied: playwright in /opt/miniconda3/envs/gui-bug-repair/lib/python3.11/site-packages (from -r ../requirements.txt (line 11)) (1.54.0)\n",
      "Requirement already satisfied: pytest in /opt/miniconda3/envs/gui-bug-repair/lib/python3.11/site-packages (from -r ../requirements.txt (line 12)) (8.4.1)\n",
      "Requirement already satisfied: nbformat in /opt/miniconda3/envs/gui-bug-repair/lib/python3.11/site-packages (from -r ../requirements.txt (line 13)) (5.10.4)\n",
      "Requirement already satisfied: openai>=1.40.0 in /opt/miniconda3/envs/gui-bug-repair/lib/python3.11/site-packages (from -r ../requirements.txt (line 15)) (1.99.9)\n",
      "Requirement already satisfied: openpyxl in /opt/miniconda3/envs/gui-bug-repair/lib/python3.11/site-packages (from -r ../requirements.txt (line 19)) (3.1.5)\n",
      "Requirement already satisfied: python-dateutil>=2.8.2 in /opt/miniconda3/envs/gui-bug-repair/lib/python3.11/site-packages (from pandas->-r ../requirements.txt (line 1)) (2.9.0.post0)\n",
      "Requirement already satisfied: pytz>=2020.1 in /opt/miniconda3/envs/gui-bug-repair/lib/python3.11/site-packages (from pandas->-r ../requirements.txt (line 1)) (2025.2)\n",
      "Requirement already satisfied: tzdata>=2022.7 in /opt/miniconda3/envs/gui-bug-repair/lib/python3.11/site-packages (from pandas->-r ../requirements.txt (line 1)) (2025.2)\n",
      "Requirement already satisfied: contourpy>=1.0.1 in /opt/miniconda3/envs/gui-bug-repair/lib/python3.11/site-packages (from matplotlib->-r ../requirements.txt (line 5)) (1.3.3)\n",
      "Requirement already satisfied: cycler>=0.10 in /opt/miniconda3/envs/gui-bug-repair/lib/python3.11/site-packages (from matplotlib->-r ../requirements.txt (line 5)) (0.12.1)\n",
      "Requirement already satisfied: fonttools>=4.22.0 in /opt/miniconda3/envs/gui-bug-repair/lib/python3.11/site-packages (from matplotlib->-r ../requirements.txt (line 5)) (4.59.0)\n",
      "Requirement already satisfied: kiwisolver>=1.3.1 in /opt/miniconda3/envs/gui-bug-repair/lib/python3.11/site-packages (from matplotlib->-r ../requirements.txt (line 5)) (1.4.9)\n",
      "Requirement already satisfied: packaging>=20.0 in /opt/miniconda3/envs/gui-bug-repair/lib/python3.11/site-packages (from matplotlib->-r ../requirements.txt (line 5)) (25.0)\n",
      "Requirement already satisfied: pyparsing>=2.3.1 in /opt/miniconda3/envs/gui-bug-repair/lib/python3.11/site-packages (from matplotlib->-r ../requirements.txt (line 5)) (3.2.3)\n",
      "Requirement already satisfied: notebook in /opt/miniconda3/envs/gui-bug-repair/lib/python3.11/site-packages (from jupyter->-r ../requirements.txt (line 6)) (7.4.5)\n",
      "Requirement already satisfied: jupyter-console in /opt/miniconda3/envs/gui-bug-repair/lib/python3.11/site-packages (from jupyter->-r ../requirements.txt (line 6)) (6.6.3)\n",
      "Requirement already satisfied: nbconvert in /opt/miniconda3/envs/gui-bug-repair/lib/python3.11/site-packages (from jupyter->-r ../requirements.txt (line 6)) (7.16.6)\n",
      "Requirement already satisfied: ipywidgets in /opt/miniconda3/envs/gui-bug-repair/lib/python3.11/site-packages (from jupyter->-r ../requirements.txt (line 6)) (8.1.7)\n",
      "Requirement already satisfied: jupyterlab in /opt/miniconda3/envs/gui-bug-repair/lib/python3.11/site-packages (from jupyter->-r ../requirements.txt (line 6)) (4.4.5)\n",
      "Requirement already satisfied: appnope>=0.1.2 in /opt/miniconda3/envs/gui-bug-repair/lib/python3.11/site-packages (from ipykernel->-r ../requirements.txt (line 7)) (0.1.4)\n",
      "Requirement already satisfied: comm>=0.1.1 in /opt/miniconda3/envs/gui-bug-repair/lib/python3.11/site-packages (from ipykernel->-r ../requirements.txt (line 7)) (0.2.3)\n",
      "Requirement already satisfied: debugpy>=1.6.5 in /opt/miniconda3/envs/gui-bug-repair/lib/python3.11/site-packages (from ipykernel->-r ../requirements.txt (line 7)) (1.8.16)\n",
      "Requirement already satisfied: ipython>=7.23.1 in /opt/miniconda3/envs/gui-bug-repair/lib/python3.11/site-packages (from ipykernel->-r ../requirements.txt (line 7)) (9.4.0)\n",
      "Requirement already satisfied: jupyter-client>=8.0.0 in /opt/miniconda3/envs/gui-bug-repair/lib/python3.11/site-packages (from ipykernel->-r ../requirements.txt (line 7)) (8.6.3)\n",
      "Requirement already satisfied: jupyter-core!=5.0.*,>=4.12 in /opt/miniconda3/envs/gui-bug-repair/lib/python3.11/site-packages (from ipykernel->-r ../requirements.txt (line 7)) (5.8.1)\n",
      "Requirement already satisfied: matplotlib-inline>=0.1 in /opt/miniconda3/envs/gui-bug-repair/lib/python3.11/site-packages (from ipykernel->-r ../requirements.txt (line 7)) (0.1.7)\n",
      "Requirement already satisfied: nest-asyncio>=1.4 in /opt/miniconda3/envs/gui-bug-repair/lib/python3.11/site-packages (from ipykernel->-r ../requirements.txt (line 7)) (1.6.0)\n",
      "Requirement already satisfied: psutil>=5.7 in /opt/miniconda3/envs/gui-bug-repair/lib/python3.11/site-packages (from ipykernel->-r ../requirements.txt (line 7)) (7.0.0)\n",
      "Requirement already satisfied: pyzmq>=25 in /opt/miniconda3/envs/gui-bug-repair/lib/python3.11/site-packages (from ipykernel->-r ../requirements.txt (line 7)) (27.0.1)\n",
      "Requirement already satisfied: tornado>=6.2 in /opt/miniconda3/envs/gui-bug-repair/lib/python3.11/site-packages (from ipykernel->-r ../requirements.txt (line 7)) (6.5.2)\n",
      "Requirement already satisfied: traitlets>=5.4.0 in /opt/miniconda3/envs/gui-bug-repair/lib/python3.11/site-packages (from ipykernel->-r ../requirements.txt (line 7)) (5.14.3)\n",
      "Requirement already satisfied: pyee<14,>=13 in /opt/miniconda3/envs/gui-bug-repair/lib/python3.11/site-packages (from playwright->-r ../requirements.txt (line 11)) (13.0.0)\n",
      "Requirement already satisfied: greenlet<4.0.0,>=3.1.1 in /opt/miniconda3/envs/gui-bug-repair/lib/python3.11/site-packages (from playwright->-r ../requirements.txt (line 11)) (3.2.4)\n",
      "Requirement already satisfied: typing-extensions in /opt/miniconda3/envs/gui-bug-repair/lib/python3.11/site-packages (from pyee<14,>=13->playwright->-r ../requirements.txt (line 11)) (4.14.1)\n",
      "Requirement already satisfied: iniconfig>=1 in /opt/miniconda3/envs/gui-bug-repair/lib/python3.11/site-packages (from pytest->-r ../requirements.txt (line 12)) (2.1.0)\n",
      "Requirement already satisfied: pluggy<2,>=1.5 in /opt/miniconda3/envs/gui-bug-repair/lib/python3.11/site-packages (from pytest->-r ../requirements.txt (line 12)) (1.6.0)\n",
      "Requirement already satisfied: pygments>=2.7.2 in /opt/miniconda3/envs/gui-bug-repair/lib/python3.11/site-packages (from pytest->-r ../requirements.txt (line 12)) (2.19.2)\n",
      "Requirement already satisfied: fastjsonschema>=2.15 in /opt/miniconda3/envs/gui-bug-repair/lib/python3.11/site-packages (from nbformat->-r ../requirements.txt (line 13)) (2.21.1)\n",
      "Requirement already satisfied: jsonschema>=2.6 in /opt/miniconda3/envs/gui-bug-repair/lib/python3.11/site-packages (from nbformat->-r ../requirements.txt (line 13)) (4.25.0)\n",
      "Requirement already satisfied: anyio<5,>=3.5.0 in /opt/miniconda3/envs/gui-bug-repair/lib/python3.11/site-packages (from openai>=1.40.0->-r ../requirements.txt (line 15)) (4.10.0)\n",
      "Requirement already satisfied: distro<2,>=1.7.0 in /opt/miniconda3/envs/gui-bug-repair/lib/python3.11/site-packages (from openai>=1.40.0->-r ../requirements.txt (line 15)) (1.9.0)\n",
      "Requirement already satisfied: httpx<1,>=0.23.0 in /opt/miniconda3/envs/gui-bug-repair/lib/python3.11/site-packages (from openai>=1.40.0->-r ../requirements.txt (line 15)) (0.28.1)\n",
      "Requirement already satisfied: jiter<1,>=0.4.0 in /opt/miniconda3/envs/gui-bug-repair/lib/python3.11/site-packages (from openai>=1.40.0->-r ../requirements.txt (line 15)) (0.10.0)\n",
      "Requirement already satisfied: pydantic<3,>=1.9.0 in /opt/miniconda3/envs/gui-bug-repair/lib/python3.11/site-packages (from openai>=1.40.0->-r ../requirements.txt (line 15)) (2.11.7)\n",
      "Requirement already satisfied: sniffio in /opt/miniconda3/envs/gui-bug-repair/lib/python3.11/site-packages (from openai>=1.40.0->-r ../requirements.txt (line 15)) (1.3.1)\n",
      "Requirement already satisfied: idna>=2.8 in /opt/miniconda3/envs/gui-bug-repair/lib/python3.11/site-packages (from anyio<5,>=3.5.0->openai>=1.40.0->-r ../requirements.txt (line 15)) (3.10)\n",
      "Requirement already satisfied: certifi in /opt/miniconda3/envs/gui-bug-repair/lib/python3.11/site-packages (from httpx<1,>=0.23.0->openai>=1.40.0->-r ../requirements.txt (line 15)) (2025.8.3)\n",
      "Requirement already satisfied: httpcore==1.* in /opt/miniconda3/envs/gui-bug-repair/lib/python3.11/site-packages (from httpx<1,>=0.23.0->openai>=1.40.0->-r ../requirements.txt (line 15)) (1.0.9)\n",
      "Requirement already satisfied: h11>=0.16 in /opt/miniconda3/envs/gui-bug-repair/lib/python3.11/site-packages (from httpcore==1.*->httpx<1,>=0.23.0->openai>=1.40.0->-r ../requirements.txt (line 15)) (0.16.0)\n",
      "Requirement already satisfied: annotated-types>=0.6.0 in /opt/miniconda3/envs/gui-bug-repair/lib/python3.11/site-packages (from pydantic<3,>=1.9.0->openai>=1.40.0->-r ../requirements.txt (line 15)) (0.7.0)\n",
      "Requirement already satisfied: pydantic-core==2.33.2 in /opt/miniconda3/envs/gui-bug-repair/lib/python3.11/site-packages (from pydantic<3,>=1.9.0->openai>=1.40.0->-r ../requirements.txt (line 15)) (2.33.2)\n",
      "Requirement already satisfied: typing-inspection>=0.4.0 in /opt/miniconda3/envs/gui-bug-repair/lib/python3.11/site-packages (from pydantic<3,>=1.9.0->openai>=1.40.0->-r ../requirements.txt (line 15)) (0.4.1)\n",
      "Requirement already satisfied: et-xmlfile in /opt/miniconda3/envs/gui-bug-repair/lib/python3.11/site-packages (from openpyxl->-r ../requirements.txt (line 19)) (2.0.0)\n",
      "Requirement already satisfied: decorator in /opt/miniconda3/envs/gui-bug-repair/lib/python3.11/site-packages (from ipython>=7.23.1->ipykernel->-r ../requirements.txt (line 7)) (5.2.1)\n",
      "Requirement already satisfied: ipython-pygments-lexers in /opt/miniconda3/envs/gui-bug-repair/lib/python3.11/site-packages (from ipython>=7.23.1->ipykernel->-r ../requirements.txt (line 7)) (1.1.1)\n",
      "Requirement already satisfied: jedi>=0.16 in /opt/miniconda3/envs/gui-bug-repair/lib/python3.11/site-packages (from ipython>=7.23.1->ipykernel->-r ../requirements.txt (line 7)) (0.19.2)\n",
      "Requirement already satisfied: pexpect>4.3 in /opt/miniconda3/envs/gui-bug-repair/lib/python3.11/site-packages (from ipython>=7.23.1->ipykernel->-r ../requirements.txt (line 7)) (4.9.0)\n",
      "Requirement already satisfied: prompt_toolkit<3.1.0,>=3.0.41 in /opt/miniconda3/envs/gui-bug-repair/lib/python3.11/site-packages (from ipython>=7.23.1->ipykernel->-r ../requirements.txt (line 7)) (3.0.51)\n",
      "Requirement already satisfied: stack_data in /opt/miniconda3/envs/gui-bug-repair/lib/python3.11/site-packages (from ipython>=7.23.1->ipykernel->-r ../requirements.txt (line 7)) (0.6.3)\n",
      "Requirement already satisfied: wcwidth in /opt/miniconda3/envs/gui-bug-repair/lib/python3.11/site-packages (from prompt_toolkit<3.1.0,>=3.0.41->ipython>=7.23.1->ipykernel->-r ../requirements.txt (line 7)) (0.2.13)\n",
      "Requirement already satisfied: parso<0.9.0,>=0.8.4 in /opt/miniconda3/envs/gui-bug-repair/lib/python3.11/site-packages (from jedi>=0.16->ipython>=7.23.1->ipykernel->-r ../requirements.txt (line 7)) (0.8.4)\n",
      "Requirement already satisfied: attrs>=22.2.0 in /opt/miniconda3/envs/gui-bug-repair/lib/python3.11/site-packages (from jsonschema>=2.6->nbformat->-r ../requirements.txt (line 13)) (25.3.0)\n",
      "Requirement already satisfied: jsonschema-specifications>=2023.03.6 in /opt/miniconda3/envs/gui-bug-repair/lib/python3.11/site-packages (from jsonschema>=2.6->nbformat->-r ../requirements.txt (line 13)) (2025.4.1)\n",
      "Requirement already satisfied: referencing>=0.28.4 in /opt/miniconda3/envs/gui-bug-repair/lib/python3.11/site-packages (from jsonschema>=2.6->nbformat->-r ../requirements.txt (line 13)) (0.36.2)\n",
      "Requirement already satisfied: rpds-py>=0.7.1 in /opt/miniconda3/envs/gui-bug-repair/lib/python3.11/site-packages (from jsonschema>=2.6->nbformat->-r ../requirements.txt (line 13)) (0.27.0)\n",
      "Requirement already satisfied: platformdirs>=2.5 in /opt/miniconda3/envs/gui-bug-repair/lib/python3.11/site-packages (from jupyter-core!=5.0.*,>=4.12->ipykernel->-r ../requirements.txt (line 7)) (4.3.8)\n",
      "Requirement already satisfied: ptyprocess>=0.5 in /opt/miniconda3/envs/gui-bug-repair/lib/python3.11/site-packages (from pexpect>4.3->ipython>=7.23.1->ipykernel->-r ../requirements.txt (line 7)) (0.7.0)\n",
      "Requirement already satisfied: six>=1.5 in /opt/miniconda3/envs/gui-bug-repair/lib/python3.11/site-packages (from python-dateutil>=2.8.2->pandas->-r ../requirements.txt (line 1)) (1.17.0)\n",
      "Requirement already satisfied: widgetsnbextension~=4.0.14 in /opt/miniconda3/envs/gui-bug-repair/lib/python3.11/site-packages (from ipywidgets->jupyter->-r ../requirements.txt (line 6)) (4.0.14)\n",
      "Requirement already satisfied: jupyterlab_widgets~=3.0.15 in /opt/miniconda3/envs/gui-bug-repair/lib/python3.11/site-packages (from ipywidgets->jupyter->-r ../requirements.txt (line 6)) (3.0.15)\n",
      "Requirement already satisfied: async-lru>=1.0.0 in /opt/miniconda3/envs/gui-bug-repair/lib/python3.11/site-packages (from jupyterlab->jupyter->-r ../requirements.txt (line 6)) (2.0.5)\n",
      "Requirement already satisfied: jinja2>=3.0.3 in /opt/miniconda3/envs/gui-bug-repair/lib/python3.11/site-packages (from jupyterlab->jupyter->-r ../requirements.txt (line 6)) (3.1.6)\n",
      "Requirement already satisfied: jupyter-lsp>=2.0.0 in /opt/miniconda3/envs/gui-bug-repair/lib/python3.11/site-packages (from jupyterlab->jupyter->-r ../requirements.txt (line 6)) (2.2.6)\n",
      "Requirement already satisfied: jupyter-server<3,>=2.4.0 in /opt/miniconda3/envs/gui-bug-repair/lib/python3.11/site-packages (from jupyterlab->jupyter->-r ../requirements.txt (line 6)) (2.16.0)\n",
      "Requirement already satisfied: jupyterlab-server<3,>=2.27.1 in /opt/miniconda3/envs/gui-bug-repair/lib/python3.11/site-packages (from jupyterlab->jupyter->-r ../requirements.txt (line 6)) (2.27.3)\n",
      "Requirement already satisfied: notebook-shim>=0.2 in /opt/miniconda3/envs/gui-bug-repair/lib/python3.11/site-packages (from jupyterlab->jupyter->-r ../requirements.txt (line 6)) (0.2.4)\n",
      "Requirement already satisfied: setuptools>=41.1.0 in /opt/miniconda3/envs/gui-bug-repair/lib/python3.11/site-packages (from jupyterlab->jupyter->-r ../requirements.txt (line 6)) (78.1.1)\n",
      "Requirement already satisfied: argon2-cffi>=21.1 in /opt/miniconda3/envs/gui-bug-repair/lib/python3.11/site-packages (from jupyter-server<3,>=2.4.0->jupyterlab->jupyter->-r ../requirements.txt (line 6)) (25.1.0)\n",
      "Requirement already satisfied: jupyter-events>=0.11.0 in /opt/miniconda3/envs/gui-bug-repair/lib/python3.11/site-packages (from jupyter-server<3,>=2.4.0->jupyterlab->jupyter->-r ../requirements.txt (line 6)) (0.12.0)\n",
      "Requirement already satisfied: jupyter-server-terminals>=0.4.4 in /opt/miniconda3/envs/gui-bug-repair/lib/python3.11/site-packages (from jupyter-server<3,>=2.4.0->jupyterlab->jupyter->-r ../requirements.txt (line 6)) (0.5.3)\n",
      "Requirement already satisfied: overrides>=5.0 in /opt/miniconda3/envs/gui-bug-repair/lib/python3.11/site-packages (from jupyter-server<3,>=2.4.0->jupyterlab->jupyter->-r ../requirements.txt (line 6)) (7.7.0)\n",
      "Requirement already satisfied: prometheus-client>=0.9 in /opt/miniconda3/envs/gui-bug-repair/lib/python3.11/site-packages (from jupyter-server<3,>=2.4.0->jupyterlab->jupyter->-r ../requirements.txt (line 6)) (0.22.1)\n",
      "Requirement already satisfied: send2trash>=1.8.2 in /opt/miniconda3/envs/gui-bug-repair/lib/python3.11/site-packages (from jupyter-server<3,>=2.4.0->jupyterlab->jupyter->-r ../requirements.txt (line 6)) (1.8.3)\n",
      "Requirement already satisfied: terminado>=0.8.3 in /opt/miniconda3/envs/gui-bug-repair/lib/python3.11/site-packages (from jupyter-server<3,>=2.4.0->jupyterlab->jupyter->-r ../requirements.txt (line 6)) (0.18.1)\n",
      "Requirement already satisfied: websocket-client>=1.7 in /opt/miniconda3/envs/gui-bug-repair/lib/python3.11/site-packages (from jupyter-server<3,>=2.4.0->jupyterlab->jupyter->-r ../requirements.txt (line 6)) (1.8.0)\n",
      "Requirement already satisfied: babel>=2.10 in /opt/miniconda3/envs/gui-bug-repair/lib/python3.11/site-packages (from jupyterlab-server<3,>=2.27.1->jupyterlab->jupyter->-r ../requirements.txt (line 6)) (2.17.0)\n",
      "Requirement already satisfied: json5>=0.9.0 in /opt/miniconda3/envs/gui-bug-repair/lib/python3.11/site-packages (from jupyterlab-server<3,>=2.27.1->jupyterlab->jupyter->-r ../requirements.txt (line 6)) (0.12.1)\n",
      "Requirement already satisfied: requests>=2.31 in /opt/miniconda3/envs/gui-bug-repair/lib/python3.11/site-packages (from jupyterlab-server<3,>=2.27.1->jupyterlab->jupyter->-r ../requirements.txt (line 6)) (2.32.4)\n",
      "Requirement already satisfied: argon2-cffi-bindings in /opt/miniconda3/envs/gui-bug-repair/lib/python3.11/site-packages (from argon2-cffi>=21.1->jupyter-server<3,>=2.4.0->jupyterlab->jupyter->-r ../requirements.txt (line 6)) (25.1.0)\n",
      "Requirement already satisfied: MarkupSafe>=2.0 in /opt/miniconda3/envs/gui-bug-repair/lib/python3.11/site-packages (from jinja2>=3.0.3->jupyterlab->jupyter->-r ../requirements.txt (line 6)) (3.0.2)\n",
      "Requirement already satisfied: python-json-logger>=2.0.4 in /opt/miniconda3/envs/gui-bug-repair/lib/python3.11/site-packages (from jupyter-events>=0.11.0->jupyter-server<3,>=2.4.0->jupyterlab->jupyter->-r ../requirements.txt (line 6)) (3.3.0)\n",
      "Requirement already satisfied: pyyaml>=5.3 in /opt/miniconda3/envs/gui-bug-repair/lib/python3.11/site-packages (from jupyter-events>=0.11.0->jupyter-server<3,>=2.4.0->jupyterlab->jupyter->-r ../requirements.txt (line 6)) (6.0.2)\n",
      "Requirement already satisfied: rfc3339-validator in /opt/miniconda3/envs/gui-bug-repair/lib/python3.11/site-packages (from jupyter-events>=0.11.0->jupyter-server<3,>=2.4.0->jupyterlab->jupyter->-r ../requirements.txt (line 6)) (0.1.4)\n",
      "Requirement already satisfied: rfc3986-validator>=0.1.1 in /opt/miniconda3/envs/gui-bug-repair/lib/python3.11/site-packages (from jupyter-events>=0.11.0->jupyter-server<3,>=2.4.0->jupyterlab->jupyter->-r ../requirements.txt (line 6)) (0.1.1)\n",
      "Requirement already satisfied: fqdn in /opt/miniconda3/envs/gui-bug-repair/lib/python3.11/site-packages (from jsonschema[format-nongpl]>=4.18.0->jupyter-events>=0.11.0->jupyter-server<3,>=2.4.0->jupyterlab->jupyter->-r ../requirements.txt (line 6)) (1.5.1)\n",
      "Requirement already satisfied: isoduration in /opt/miniconda3/envs/gui-bug-repair/lib/python3.11/site-packages (from jsonschema[format-nongpl]>=4.18.0->jupyter-events>=0.11.0->jupyter-server<3,>=2.4.0->jupyterlab->jupyter->-r ../requirements.txt (line 6)) (20.11.0)\n",
      "Requirement already satisfied: jsonpointer>1.13 in /opt/miniconda3/envs/gui-bug-repair/lib/python3.11/site-packages (from jsonschema[format-nongpl]>=4.18.0->jupyter-events>=0.11.0->jupyter-server<3,>=2.4.0->jupyterlab->jupyter->-r ../requirements.txt (line 6)) (3.0.0)\n",
      "Requirement already satisfied: rfc3987-syntax>=1.1.0 in /opt/miniconda3/envs/gui-bug-repair/lib/python3.11/site-packages (from jsonschema[format-nongpl]>=4.18.0->jupyter-events>=0.11.0->jupyter-server<3,>=2.4.0->jupyterlab->jupyter->-r ../requirements.txt (line 6)) (1.1.0)\n",
      "Requirement already satisfied: uri-template in /opt/miniconda3/envs/gui-bug-repair/lib/python3.11/site-packages (from jsonschema[format-nongpl]>=4.18.0->jupyter-events>=0.11.0->jupyter-server<3,>=2.4.0->jupyterlab->jupyter->-r ../requirements.txt (line 6)) (1.3.0)\n",
      "Requirement already satisfied: webcolors>=24.6.0 in /opt/miniconda3/envs/gui-bug-repair/lib/python3.11/site-packages (from jsonschema[format-nongpl]>=4.18.0->jupyter-events>=0.11.0->jupyter-server<3,>=2.4.0->jupyterlab->jupyter->-r ../requirements.txt (line 6)) (24.11.1)\n",
      "Requirement already satisfied: beautifulsoup4 in /opt/miniconda3/envs/gui-bug-repair/lib/python3.11/site-packages (from nbconvert->jupyter->-r ../requirements.txt (line 6)) (4.13.4)\n",
      "Requirement already satisfied: bleach!=5.0.0 in /opt/miniconda3/envs/gui-bug-repair/lib/python3.11/site-packages (from bleach[css]!=5.0.0->nbconvert->jupyter->-r ../requirements.txt (line 6)) (6.2.0)\n",
      "Requirement already satisfied: defusedxml in /opt/miniconda3/envs/gui-bug-repair/lib/python3.11/site-packages (from nbconvert->jupyter->-r ../requirements.txt (line 6)) (0.7.1)\n",
      "Requirement already satisfied: jupyterlab-pygments in /opt/miniconda3/envs/gui-bug-repair/lib/python3.11/site-packages (from nbconvert->jupyter->-r ../requirements.txt (line 6)) (0.3.0)\n",
      "Requirement already satisfied: mistune<4,>=2.0.3 in /opt/miniconda3/envs/gui-bug-repair/lib/python3.11/site-packages (from nbconvert->jupyter->-r ../requirements.txt (line 6)) (3.1.3)\n",
      "Requirement already satisfied: nbclient>=0.5.0 in /opt/miniconda3/envs/gui-bug-repair/lib/python3.11/site-packages (from nbconvert->jupyter->-r ../requirements.txt (line 6)) (0.10.2)\n",
      "Requirement already satisfied: pandocfilters>=1.4.1 in /opt/miniconda3/envs/gui-bug-repair/lib/python3.11/site-packages (from nbconvert->jupyter->-r ../requirements.txt (line 6)) (1.5.1)\n",
      "Requirement already satisfied: webencodings in /opt/miniconda3/envs/gui-bug-repair/lib/python3.11/site-packages (from bleach!=5.0.0->bleach[css]!=5.0.0->nbconvert->jupyter->-r ../requirements.txt (line 6)) (0.5.1)\n",
      "Requirement already satisfied: tinycss2<1.5,>=1.1.0 in /opt/miniconda3/envs/gui-bug-repair/lib/python3.11/site-packages (from bleach[css]!=5.0.0->nbconvert->jupyter->-r ../requirements.txt (line 6)) (1.4.0)\n",
      "Requirement already satisfied: charset_normalizer<4,>=2 in /opt/miniconda3/envs/gui-bug-repair/lib/python3.11/site-packages (from requests>=2.31->jupyterlab-server<3,>=2.27.1->jupyterlab->jupyter->-r ../requirements.txt (line 6)) (3.4.3)\n",
      "Requirement already satisfied: urllib3<3,>=1.21.1 in /opt/miniconda3/envs/gui-bug-repair/lib/python3.11/site-packages (from requests>=2.31->jupyterlab-server<3,>=2.27.1->jupyterlab->jupyter->-r ../requirements.txt (line 6)) (2.5.0)\n",
      "Requirement already satisfied: lark>=1.2.2 in /opt/miniconda3/envs/gui-bug-repair/lib/python3.11/site-packages (from rfc3987-syntax>=1.1.0->jsonschema[format-nongpl]>=4.18.0->jupyter-events>=0.11.0->jupyter-server<3,>=2.4.0->jupyterlab->jupyter->-r ../requirements.txt (line 6)) (1.2.2)\n",
      "Requirement already satisfied: cffi>=1.0.1 in /opt/miniconda3/envs/gui-bug-repair/lib/python3.11/site-packages (from argon2-cffi-bindings->argon2-cffi>=21.1->jupyter-server<3,>=2.4.0->jupyterlab->jupyter->-r ../requirements.txt (line 6)) (1.17.1)\n",
      "Requirement already satisfied: pycparser in /opt/miniconda3/envs/gui-bug-repair/lib/python3.11/site-packages (from cffi>=1.0.1->argon2-cffi-bindings->argon2-cffi>=21.1->jupyter-server<3,>=2.4.0->jupyterlab->jupyter->-r ../requirements.txt (line 6)) (2.22)\n",
      "Requirement already satisfied: soupsieve>1.2 in /opt/miniconda3/envs/gui-bug-repair/lib/python3.11/site-packages (from beautifulsoup4->nbconvert->jupyter->-r ../requirements.txt (line 6)) (2.7)\n",
      "Requirement already satisfied: arrow>=0.15.0 in /opt/miniconda3/envs/gui-bug-repair/lib/python3.11/site-packages (from isoduration->jsonschema[format-nongpl]>=4.18.0->jupyter-events>=0.11.0->jupyter-server<3,>=2.4.0->jupyterlab->jupyter->-r ../requirements.txt (line 6)) (1.3.0)\n",
      "Requirement already satisfied: types-python-dateutil>=2.8.10 in /opt/miniconda3/envs/gui-bug-repair/lib/python3.11/site-packages (from arrow>=0.15.0->isoduration->jsonschema[format-nongpl]>=4.18.0->jupyter-events>=0.11.0->jupyter-server<3,>=2.4.0->jupyterlab->jupyter->-r ../requirements.txt (line 6)) (2.9.0.20250809)\n",
      "Requirement already satisfied: executing>=1.2.0 in /opt/miniconda3/envs/gui-bug-repair/lib/python3.11/site-packages (from stack_data->ipython>=7.23.1->ipykernel->-r ../requirements.txt (line 7)) (2.2.0)\n",
      "Requirement already satisfied: asttokens>=2.1.0 in /opt/miniconda3/envs/gui-bug-repair/lib/python3.11/site-packages (from stack_data->ipython>=7.23.1->ipykernel->-r ../requirements.txt (line 7)) (3.0.0)\n",
      "Requirement already satisfied: pure-eval in /opt/miniconda3/envs/gui-bug-repair/lib/python3.11/site-packages (from stack_data->ipython>=7.23.1->ipykernel->-r ../requirements.txt (line 7)) (0.2.3)\n",
      "Note: you may need to restart the kernel to use updated packages.\n"
     ]
    }
   ],
   "source": [
    "# Setup\n",
    "%pip install -r ../requirements.txt"
   ]
  },
  {
   "cell_type": "code",
   "execution_count": 2,
   "id": "3892f3cd",
   "metadata": {},
   "outputs": [
    {
     "name": "stderr",
     "output_type": "stream",
     "text": [
      "Matplotlib is building the font cache; this may take a moment.\n"
     ]
    }
   ],
   "source": [
    "import pandas as pd, json, glob, os, matplotlib.pyplot as plt"
   ]
  },
  {
   "cell_type": "code",
   "execution_count": 3,
   "id": "e82e86ee",
   "metadata": {},
   "outputs": [],
   "source": [
    "# TODO: Load a handful of bug reports and inspect their fields"
   ]
  },
  {
   "cell_type": "code",
   "execution_count": 4,
   "id": "8e8b0dbd",
   "metadata": {},
   "outputs": [],
   "source": [
    "# TODO: Draft categories and note examples"
   ]
  },
  {
   "cell_type": "code",
   "execution_count": null,
   "id": "113e9d8f-85f7-4764-996b-a099b3a1a670",
   "metadata": {},
   "outputs": [],
   "source": []
  }
 ],
 "metadata": {
  "kernelspec": {
   "display_name": "Python 3 (ipykernel)",
   "language": "python",
   "name": "python3"
  },
  "language_info": {
   "codemirror_mode": {
    "name": "ipython",
    "version": 3
   },
   "file_extension": ".py",
   "mimetype": "text/x-python",
   "name": "python",
   "nbconvert_exporter": "python",
   "pygments_lexer": "ipython3",
   "version": "3.11.13"
  }
 },
 "nbformat": 4,
 "nbformat_minor": 5
}
